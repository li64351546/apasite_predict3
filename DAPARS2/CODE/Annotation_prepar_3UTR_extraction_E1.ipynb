{
 "cells": [
  {
   "cell_type": "code",
   "execution_count": null,
   "id": "897a75b5",
   "metadata": {},
   "outputs": [],
   "source": [
    "import os\n",
    "import sys, getopt\n",
    "import os.path"
   ]
  },
  {
   "cell_type": "code",
   "execution_count": 6,
   "metadata": {},
   "outputs": [],
   "source": [
    "def Annotation_prepar_3UTR_extraction(gene_bed_file, gene_symbol_map_kfXref_file, output_utr_file):\n",
    "    \n",
    "    output_write = open(output_utr_file,'w')\n",
    "    \n",
    "    refseq_trapt_gene_symbol_dict = {}\n",
    "    num_line = 0\n",
    "    for line in open(gene_symbol_map_kfXref_file, 'r'):\n",
    "        if num_line > 0:\n",
    "            fields = line.strip('\\n').strip('\\r').split('\\t')\n",
    "            gene_symbol = fields[1]\n",
    "            refseq_transcript_id = fields[0]\n",
    "            refseq_trapt_gene_symbol_dict[refseq_transcript_id] = gene_symbol\n",
    "        else:\n",
    "            num_line += 1\n",
    "    \n",
    "    scanned_3UTR_list = []\n",
    "    num_saved = 0\n",
    "    for line in open(gene_bed_file,'r'):\n",
    "        fields = line.strip('\\n').split('\\t')\n",
    "        refseq_id = fields[3]\n",
    "        if '_' not in fields[0]:\n",
    "            \n",
    "            if refseq_id not in refseq_trapt_gene_symbol_dict:\n",
    "                gene_symbol = \"NA\"\n",
    "            else:\n",
    "                gene_symbol = refseq_trapt_gene_symbol_dict[refseq_id] \n",
    "            \n",
    "            UTR_id = [refseq_id, gene_symbol,fields[0], fields[5]]\n",
    "            UTR_id_new = '|'.join(UTR_id)\n",
    "            curr_strand = fields[5]\n",
    "            if curr_strand == \"+\":\n",
    "                UTR_end = fields[2]\n",
    "                gene_start = int(fields[1])\n",
    "                UTR_start = str(gene_start + int(fields[-1].strip(',').split(',')[-1])+1)#1base\n",
    "            elif curr_strand == \"-\":\n",
    "                gene_start = int(fields[1])\n",
    "                UTR_start = str(gene_start + 1)#1base\n",
    "                UTR_end   = str(gene_start + int(fields[10].split(',')[0]))#1base, included\n",
    "            \n",
    "            this_UTR = fields[0]+UTR_start+UTR_end+curr_strand\n",
    "            if this_UTR not in scanned_3UTR_list:\n",
    "                write_line = [fields[0], UTR_start, UTR_end,UTR_id_new, '0', curr_strand]\n",
    "                output_write.writelines('\\t'.join(write_line) + '\\n')\n",
    "                scanned_3UTR_list.append(this_UTR)\n",
    "                num_saved += 1\n",
    "    \n",
    "    \n",
    "    output_write.close()   \n",
    "    print(\"Total extracted 3' UTR: \" + str(num_saved))"
   ]
  },
  {
   "cell_type": "code",
   "execution_count": null,
   "metadata": {},
   "outputs": [],
   "source": [
    "gene_bed_file='DATA/hg38_wholeGene_annotation.bed'\n",
    "gene_symbol_annotation_file='DATA/hg38_refseq_IDmapping.txt'\n",
    "output_extract_file = 'temp_anno_extracted.bed'\n",
    "\n",
    "\n",
    "\n",
    "\n",
    "output_final_extract_file='DATA/hg38_refseq_IDmapping.txt'\n",
    "\n",
    "Annotation_prepar_3UTR_extraction(\n",
    "    gene_bed_file, \n",
    "    gene_symbol_annotation_file,\n",
    "    output_extract_file)"
   ]
  },
  {
   "cell_type": "code",
   "execution_count": null,
   "metadata": {},
   "outputs": [
    {
     "name": "stdout",
     "output_type": "stream",
     "text": [
      "#name\tname2\n",
      "\n",
      "NM_001276352.2\tC1orf141\n",
      "\n"
     ]
    }
   ],
   "source": [
    "num_line = 0\n",
    "gene_symbol_annotation_file='DATA/hg38_refseq_IDmapping.txt'\n",
    "for line in open(gene_symbol_annotation_file, 'r'):\n",
    "    print(line)\n",
    "    if num_line > 0:\n",
    "        break\n",
    "    num_line += 1"
   ]
  },
  {
   "cell_type": "code",
   "execution_count": 13,
   "metadata": {},
   "outputs": [
    {
     "data": {
      "text/plain": [
       "['NM_001276352.2', 'C1orf141']"
      ]
     },
     "execution_count": 13,
     "metadata": {},
     "output_type": "execute_result"
    }
   ],
   "source": [
    "fields = line.strip('\\n').strip('\\r').split('\\t')\n",
    "fields"
   ]
  },
  {
   "cell_type": "code",
   "execution_count": 16,
   "metadata": {},
   "outputs": [
    {
     "data": {
      "text/plain": [
       "dict"
      ]
     },
     "execution_count": 16,
     "metadata": {},
     "output_type": "execute_result"
    }
   ],
   "source": [
    "refseq_trapt_gene_symbol_dict = {}\n",
    "type(refseq_trapt_gene_symbol_dict)"
   ]
  },
  {
   "cell_type": "code",
   "execution_count": 18,
   "metadata": {},
   "outputs": [
    {
     "data": {
      "text/plain": [
       "{'NM_001276352.2': 'C1orf141'}"
      ]
     },
     "execution_count": 18,
     "metadata": {},
     "output_type": "execute_result"
    }
   ],
   "source": [
    "gene_symbol = fields[1]\n",
    "refseq_transcript_id = fields[0]\n",
    "refseq_trapt_gene_symbol_dict[refseq_transcript_id] = gene_symbol\n",
    "refseq_trapt_gene_symbol_dict"
   ]
  },
  {
   "cell_type": "code",
   "execution_count": 21,
   "metadata": {},
   "outputs": [
    {
     "name": "stdout",
     "output_type": "stream",
     "text": [
      "chr1\t67092164\t67134970\tNM_001276352.2\t0\t-\t67093579\t67127240\t0\t9\t1440,70,145,68,113,158,92,86,41,\t0,4087,11073,19412,23187,33587,35001,38977,42765,\n",
      "\n"
     ]
    }
   ],
   "source": [
    "scanned_3UTR_list = []\n",
    "num_saved = 0\n",
    "\n",
    "\n",
    "gene_bed_file='DATA/hg38_wholeGene_annotation.bed'\n",
    "for line in open(gene_bed_file,'r'):\n",
    "    print(line)\n",
    "    break"
   ]
  },
  {
   "cell_type": "code",
   "execution_count": 23,
   "metadata": {},
   "outputs": [
    {
     "data": {
      "text/plain": [
       "['chr1',\n",
       " '67092164',\n",
       " '67134970',\n",
       " 'NM_001276352.2',\n",
       " '0',\n",
       " '-',\n",
       " '67093579',\n",
       " '67127240',\n",
       " '0',\n",
       " '9',\n",
       " '1440,70,145,68,113,158,92,86,41,',\n",
       " '0,4087,11073,19412,23187,33587,35001,38977,42765,']"
      ]
     },
     "execution_count": 23,
     "metadata": {},
     "output_type": "execute_result"
    }
   ],
   "source": [
    "fields = line.strip('\\n').split('\\t')\n",
    "fields"
   ]
  },
  {
   "cell_type": "code",
   "execution_count": 24,
   "metadata": {},
   "outputs": [
    {
     "data": {
      "text/plain": [
       "'NM_001276352.2'"
      ]
     },
     "execution_count": 24,
     "metadata": {},
     "output_type": "execute_result"
    }
   ],
   "source": [
    "refseq_id = fields[3]\n",
    "refseq_id"
   ]
  },
  {
   "cell_type": "code",
   "execution_count": 25,
   "metadata": {},
   "outputs": [],
   "source": [
    "if refseq_id not in refseq_trapt_gene_symbol_dict:\n",
    "    gene_symbol = \"NA\"\n",
    "else:\n",
    "    gene_symbol = refseq_trapt_gene_symbol_dict[refseq_id] \n",
    "            "
   ]
  },
  {
   "cell_type": "code",
   "execution_count": 26,
   "metadata": {},
   "outputs": [
    {
     "data": {
      "text/plain": [
       "['NM_001276352.2', 'C1orf141', 'chr1', '-']"
      ]
     },
     "execution_count": 26,
     "metadata": {},
     "output_type": "execute_result"
    }
   ],
   "source": [
    "UTR_id = [refseq_id, gene_symbol,fields[0], fields[5]]\n",
    "UTR_id"
   ]
  },
  {
   "cell_type": "code",
   "execution_count": 27,
   "metadata": {},
   "outputs": [
    {
     "data": {
      "text/plain": [
       "'NM_001276352.2|C1orf141|chr1|-'"
      ]
     },
     "execution_count": 27,
     "metadata": {},
     "output_type": "execute_result"
    }
   ],
   "source": [
    "UTR_id_new = '|'.join(UTR_id)\n",
    "UTR_id_new"
   ]
  },
  {
   "cell_type": "code",
   "execution_count": 28,
   "metadata": {},
   "outputs": [
    {
     "data": {
      "text/plain": [
       "'-'"
      ]
     },
     "execution_count": 28,
     "metadata": {},
     "output_type": "execute_result"
    }
   ],
   "source": [
    "curr_strand = fields[5]\n",
    "curr_strand"
   ]
  },
  {
   "cell_type": "code",
   "execution_count": 29,
   "metadata": {},
   "outputs": [],
   "source": [
    "if curr_strand == \"+\":\n",
    "    UTR_end = fields[2]\n",
    "    gene_start = int(fields[1])\n",
    "    UTR_start = str(gene_start + int(fields[-1].strip(',').split(',')[-1])+1)#1base\n",
    "elif curr_strand == \"-\":\n",
    "    gene_start = int(fields[1])\n",
    "    UTR_start = str(gene_start + 1)#1base\n",
    "    UTR_end   = str(gene_start + int(fields[10].split(',')[0]))#1base, included\n"
   ]
  },
  {
   "cell_type": "code",
   "execution_count": 30,
   "metadata": {},
   "outputs": [
    {
     "data": {
      "text/plain": [
       "'67093604'"
      ]
     },
     "execution_count": 30,
     "metadata": {},
     "output_type": "execute_result"
    }
   ],
   "source": [
    "UTR_end"
   ]
  },
  {
   "cell_type": "code",
   "execution_count": 32,
   "metadata": {},
   "outputs": [
    {
     "data": {
      "text/plain": [
       "'chr1'"
      ]
     },
     "execution_count": 32,
     "metadata": {},
     "output_type": "execute_result"
    }
   ],
   "source": [
    "fields[0]"
   ]
  },
  {
   "cell_type": "code",
   "execution_count": 33,
   "metadata": {},
   "outputs": [
    {
     "data": {
      "text/plain": [
       "'67092165'"
      ]
     },
     "execution_count": 33,
     "metadata": {},
     "output_type": "execute_result"
    }
   ],
   "source": [
    "UTR_start"
   ]
  },
  {
   "cell_type": "code",
   "execution_count": 31,
   "metadata": {},
   "outputs": [
    {
     "data": {
      "text/plain": [
       "'chr16709216567093604-'"
      ]
     },
     "execution_count": 31,
     "metadata": {},
     "output_type": "execute_result"
    }
   ],
   "source": [
    "this_UTR = fields[0]+UTR_start+UTR_end+curr_strand\n",
    "this_UTR"
   ]
  },
  {
   "cell_type": "code",
   "execution_count": 35,
   "metadata": {},
   "outputs": [
    {
     "name": "stderr",
     "output_type": "stream",
     "text": [
      "Error: unable to open file or unable to determine types for file DATA/hg38_refseq_IDmapping.txt\n",
      "\n",
      "- Please ensure that your file is TAB delimited (e.g., cat -t FILE).\n",
      "- Also ensure that your file has integer chromosome coordinates in the \n",
      "  expected columns (e.g., cols 2 and 3 for BED).\n"
     ]
    },
    {
     "data": {
      "text/plain": [
       "256"
      ]
     },
     "execution_count": 35,
     "metadata": {},
     "output_type": "execute_result"
    }
   ],
   "source": [
    "temp_file = \"overlap_opposite_strand_subtract.bed\"\n",
    "cmd = 'subtractBed -a %s -b %s -S > %s' % (output_extract_file, output_final_extract_file, temp_file)\n",
    "os.system(cmd)"
   ]
  },
  {
   "cell_type": "code",
   "execution_count": 39,
   "metadata": {},
   "outputs": [],
   "source": [
    "def Subtract_different_strand_overlap(input_gene_bed_file,output_utr_file):\n",
    "    def UTRs_subtract_refine(UTRs_all):\n",
    "        strand_info = UTRs_all[0].strip('\\n').split('\\t')[-1]\n",
    "        if strand_info == '+':\n",
    "            all_pos = []\n",
    "            for curr_line in UTRs_all:\n",
    "                left_pos = curr_line.strip('\\n').split('\\t')[1]\n",
    "                all_pos.append(int(left_pos))\n",
    "            selected_UTR_index = all_pos.index(min(all_pos))\n",
    "            selected_UTR = UTRs_all[selected_UTR_index]\n",
    "        else:\n",
    "            all_pos = []\n",
    "            for curr_line in UTRs_all:\n",
    "                left_pos = curr_line.strip('\\n').split('\\t')[2]\n",
    "                all_pos.append(int(left_pos))\n",
    "            selected_UTR_index = all_pos.index(max(all_pos))\n",
    "            selected_UTR = UTRs_all[selected_UTR_index]\n",
    "        return selected_UTR\n",
    "\n",
    "\n",
    "    temp_file = \"overlap_opposite_strand_subtract.bed\"\n",
    "    cmd = 'subtractBed -a %s -b %s -S > %s' % (input_gene_bed_file, input_gene_bed_file, temp_file)\n",
    "\n",
    "    print('cmd',cmd)\n",
    "\n",
    "\n",
    "    os.system(cmd)\n",
    "    \n",
    "    read_subtract_result_dict = {}\n",
    "    for line in open(temp_file,'r'):\n",
    "        transcript_id = line.split('\\t')[3].split('|')[0]\n",
    "        if transcript_id not in read_subtract_result_dict:\n",
    "            read_subtract_result_dict[transcript_id] = []\n",
    "        read_subtract_result_dict[transcript_id].append(line)\n",
    "    \n",
    "    output_utr_write = open(output_utr_file,'w')\n",
    "    for curr_trans_id in read_subtract_result_dict:\n",
    "        curr_3UTRs = read_subtract_result_dict[curr_trans_id]\n",
    "        num_3UTRs = len(curr_3UTRs)\n",
    "        if num_3UTRs == 1:\n",
    "            output_utr_write.writelines(curr_3UTRs[0])\n",
    "        else:\n",
    "            selected_UTR = UTRs_subtract_refine(curr_3UTRs)\n",
    "            output_utr_write.writelines(selected_UTR)\n",
    "    output_utr_write.close()\n",
    "    \n",
    "\n"
   ]
  },
  {
   "cell_type": "code",
   "execution_count": 40,
   "metadata": {},
   "outputs": [
    {
     "name": "stdout",
     "output_type": "stream",
     "text": [
      "cmd subtractBed -a temp_anno_extracted.bed -b temp_anno_extracted.bed -S > overlap_opposite_strand_subtract.bed\n"
     ]
    }
   ],
   "source": [
    "Subtract_different_strand_overlap(output_extract_file,output_final_extract_file)\n",
    "    "
   ]
  }
 ],
 "metadata": {
  "kernelspec": {
   "display_name": "li2",
   "language": "python",
   "name": "python3"
  },
  "language_info": {
   "codemirror_mode": {
    "name": "ipython",
    "version": 3
   },
   "file_extension": ".py",
   "mimetype": "text/x-python",
   "name": "python",
   "nbconvert_exporter": "python",
   "pygments_lexer": "ipython3",
   "version": "3.9.23"
  }
 },
 "nbformat": 4,
 "nbformat_minor": 5
}
