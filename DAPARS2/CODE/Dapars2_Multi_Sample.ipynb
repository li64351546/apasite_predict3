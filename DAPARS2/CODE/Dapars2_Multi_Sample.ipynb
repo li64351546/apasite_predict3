{
 "cells": [
  {
   "cell_type": "code",
   "execution_count": 2,
   "id": "3db7a5be",
   "metadata": {},
   "outputs": [],
   "source": [
    "def parse_cfgfile(cfg_file):\n",
    "    '''Parse configure file\n",
    "    '''\n",
    "    Aligned_Wig_files=''\n",
    "    output_directory=''\n",
    "    Annotated_3UTR_file=''\n",
    "    Output_result_file=''\n",
    "    Coverage_threshold = 1\n",
    "    Num_threads = 1\n",
    "    sequencing_depth_file = ''\n",
    "\n",
    "    for line in open(cfg_file, 'r'):\n",
    "        if line[0] == '\\n' or line[0] == '#':\n",
    "            comments = line;\n",
    "        else:\n",
    "            line = line.rstrip()\n",
    "            command = line.split('=');\n",
    "            if command[0] == 'Aligned_Wig_files':\n",
    "                Aligned_Wig_files = command[1].split(',');\n",
    "            if command[0] == 'Output_directory':\n",
    "                output_directory = command[1]\n",
    "                if output_directory[-1] != '/':\n",
    "                    output_directory += '/'\n",
    "            if command[0] == 'Annotated_3UTR':\n",
    "                Annotated_3UTR_file = command[1]\n",
    "            if command[0] == 'Output_result_file':\n",
    "                Output_result_file = command[1]\n",
    "            if command[0] == 'sequencing_depth_file':\n",
    "                sequencing_depth_file = command[1]\n",
    "            if command[0] == 'Num_Threads':\n",
    "                Num_threads = int(command[1])\n",
    "            if command[0] == 'Coverage_threshold':\n",
    "                Coverage_threshold = int(command[1])\n",
    "\n",
    "\n",
    "    if Aligned_Wig_files == '':\n",
    "        print(\"No aligned BAM file found!\", file=sys.stderr)\n",
    "        exit(1)\n",
    "    if output_directory=='':\n",
    "        print(\"No output directory!\", file=sys.stderr)\n",
    "        exit(1)\n",
    "    if Annotated_3UTR_file=='':\n",
    "        print(\"No annotated 3' UTR file!\", file=sys.stderr)\n",
    "        exit(1)\n",
    "    if Output_result_file=='':\n",
    "        print(\"No result file name!\", file=sys.stderr)\n",
    "        exit(1)\n",
    "    if sequencing_depth_file=='':\n",
    "        print(\"No sequencing depth file!\", file=sys.stderr)\n",
    "        exit(1)\n",
    "\n",
    "    return Aligned_Wig_files, output_directory, Annotated_3UTR_file, Output_result_file, sequencing_depth_file, Num_threads, Coverage_threshold\n"
   ]
  },
  {
   "cell_type": "code",
   "execution_count": null,
   "id": "de3bcd5b",
   "metadata": {},
   "outputs": [],
   "source": [
    "(Group1_Tophat_aligned_file,\n",
    "output_directory,\n",
    "Annotated_3UTR_file,\n",
    "Output_result_file,\n",
    "sequencing_depth_file,\n",
    "Num_threads,\n",
    "Coverage_threshold)= parse_cfgfile(\n",
    "'../DATA/DaPars_test_data_configure.txt')"
   ]
  },
  {
   "cell_type": "code",
   "execution_count": 10,
   "id": "8a26a0d8",
   "metadata": {},
   "outputs": [],
   "source": [
    "def Load_Target_Wig_files_Multiple_threads_shared_dict_sampleid_key(All_Wig_files,UTR_Annotation_file, num_threads,curr_processing_chr):\n",
    "    num_samples = len(All_Wig_files)\n",
    "    UTR_events_dict = {}\n",
    "    for line in open(UTR_Annotation_file, 'r'):\n",
    "        fields = line.strip('\\n').split('\\t')\n",
    "        curr_chr = fields[0]\n",
    "        if curr_chr == curr_processing_chr:\n",
    "            region_start = fields[1]\n",
    "            region_end = fields[2]\n",
    "\n",
    "            curr_strand = fields[-1]\n",
    "            UTR_pos = \"%s:%s-%s\" %(curr_chr, region_start, region_end)\n",
    "            end_shift = int(round(abs(int(region_start) - int(region_end)) * 0.2))\n",
    "            if curr_strand == \"+\":\n",
    "                region_end = str(int(region_end) - end_shift)\n",
    "            else:\n",
    "                region_start = str(int(region_start) + end_shift)\n",
    "            region_start = int(region_start) + 1\n",
    "            region_end = int(region_end) - 1\n",
    "            if region_start + 50 < region_end:\n",
    "                UTR_events_dict[fields[3]] = [fields[0],region_start,region_end,fields[-1],UTR_pos]\n",
    "\n",
    "    Assigned_index = Assign_to_different_processor_balance(num_samples, num_threads)\n",
    "\n",
    "    manager = multiprocessing.Manager() # create only 1 Manager\n",
    "    All_samples_extracted_3UTR_coverage_dict = manager.dict() # create only 1 dict\n",
    "\n",
    "    processes = []\n",
    "    Final_assigned_threads_num = len(Assigned_index)\n",
    "    for i in range(Final_assigned_threads_num):\n",
    "        process = multiprocessing.Process(target=load_wig_funct_shared_dict_sampleid_key, args=(All_Wig_files, Assigned_index[i], UTR_events_dict,curr_processing_chr,All_samples_extracted_3UTR_coverage_dict))\n",
    "        process.start()\n",
    "        processes.append(process)\n",
    "\n",
    "    for p in processes:\n",
    "        p.join()\n",
    "\n",
    "    return All_samples_extracted_3UTR_coverage_dict, UTR_events_dict\n",
    "\n"
   ]
  },
  {
   "cell_type": "code",
   "execution_count": 13,
   "id": "113b5d05",
   "metadata": {},
   "outputs": [
    {
     "ename": "TypeError",
     "evalue": "cannot unpack non-iterable function object",
     "output_type": "error",
     "traceback": [
      "\u001b[0;31m---------------------------------------------------------------------------\u001b[0m",
      "\u001b[0;31mTypeError\u001b[0m                                 Traceback (most recent call last)",
      "Cell \u001b[0;32mIn[13], line 1\u001b[0m\n\u001b[0;32m----> 1\u001b[0m (All_samples_Target_3UTR_coverages, UTR_events_dict \n\u001b[1;32m      2\u001b[0m  )\u001b[38;5;241m=\u001b[39m Load_Target_Wig_files_Multiple_threads_shared_dict_sampleid_key\n\u001b[1;32m      3\u001b[0m (All_Sample_files,\n\u001b[1;32m      4\u001b[0m   Annotated_3UTR_file,\n\u001b[1;32m      5\u001b[0m     Num_threads,\n\u001b[1;32m      6\u001b[0m     curr_processing_chr)\n",
      "\u001b[0;31mTypeError\u001b[0m: cannot unpack non-iterable function object"
     ]
    }
   ],
   "source": [
    "\n",
    "    (All_samples_Target_3UTR_coverages, UTR_events_dict \n",
    "     )= Load_Target_Wig_files_Multiple_threads_shared_dict_sampleid_key\n",
    "    (All_Sample_files,\n",
    "      Annotated_3UTR_file,\n",
    "        Num_threads,\n",
    "        curr_processing_chr)"
   ]
  }
 ],
 "metadata": {
  "kernelspec": {
   "display_name": "li2",
   "language": "python",
   "name": "python3"
  },
  "language_info": {
   "codemirror_mode": {
    "name": "ipython",
    "version": 3
   },
   "file_extension": ".py",
   "mimetype": "text/x-python",
   "name": "python",
   "nbconvert_exporter": "python",
   "pygments_lexer": "ipython3",
   "version": "3.9.23"
  }
 },
 "nbformat": 4,
 "nbformat_minor": 5
}
