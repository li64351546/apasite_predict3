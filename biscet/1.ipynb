{
 "cells": [
  {
   "cell_type": "code",
   "execution_count": 8,
   "id": "d3069b7b",
   "metadata": {},
   "outputs": [],
   "source": [
    "import bisect"
   ]
  },
  {
   "cell_type": "code",
   "execution_count": null,
   "id": "4c29db22",
   "metadata": {},
   "outputs": [],
   "source": [
    "a = [1,2,3,3,4]"
   ]
  },
  {
   "cell_type": "code",
   "execution_count": 2,
   "id": "3637d42f",
   "metadata": {},
   "outputs": [],
   "source": [
    "x = 3"
   ]
  },
  {
   "cell_type": "code",
   "execution_count": 9,
   "id": "72ef4946",
   "metadata": {},
   "outputs": [
    {
     "data": {
      "text/plain": [
       "2"
      ]
     },
     "execution_count": 9,
     "metadata": {},
     "output_type": "execute_result"
    }
   ],
   "source": [
    "bisect.bisect_left(a,x)"
   ]
  },
  {
   "cell_type": "code",
   "execution_count": 10,
   "id": "45a2174b",
   "metadata": {},
   "outputs": [
    {
     "data": {
      "text/plain": [
       "4"
      ]
     },
     "execution_count": 10,
     "metadata": {},
     "output_type": "execute_result"
    }
   ],
   "source": [
    "bisect.bisect_right(a,x)"
   ]
  },
  {
   "cell_type": "code",
   "execution_count": 11,
   "id": "f10de2b0",
   "metadata": {},
   "outputs": [],
   "source": [
    "bisect.insort_left(a,x)"
   ]
  },
  {
   "cell_type": "code",
   "execution_count": 12,
   "id": "dc9287ab",
   "metadata": {},
   "outputs": [],
   "source": [
    "bisect.insort_right(a,x)"
   ]
  },
  {
   "cell_type": "code",
   "execution_count": 15,
   "id": "ab9c4433",
   "metadata": {},
   "outputs": [
    {
     "data": {
      "text/plain": [
       "6"
      ]
     },
     "execution_count": 15,
     "metadata": {},
     "output_type": "execute_result"
    }
   ],
   "source": [
    "aa=bisect.bisect(a,x)\n",
    "aa"
   ]
  },
  {
   "cell_type": "code",
   "execution_count": 16,
   "id": "fbc10e7f",
   "metadata": {},
   "outputs": [
    {
     "name": "stdout",
     "output_type": "stream",
     "text": [
      "4\n"
     ]
    }
   ],
   "source": [
    "a = [1, 2, 4, 4, 5]\n",
    "x = 4\n",
    "index = bisect.bisect(a, x)\n",
    "print(index)  # 输出：4"
   ]
  },
  {
   "cell_type": "code",
   "execution_count": null,
   "id": "748a3086",
   "metadata": {},
   "outputs": [
    {
     "name": "stdout",
     "output_type": "stream",
     "text": [
      "3 not found\n"
     ]
    }
   ],
   "source": [
    "#查找元素的位置：\n",
    "a = [1, 2, 4, 4, 5]\n",
    "x = 3\n",
    "index = bisect.bisect_left(a, x)\n",
    "\n",
    "if index != len(a) and a[index] == x:\n",
    "    print(f\"{x} found at index {index}\")\n",
    "else:\n",
    "    print(f\"{x} not found\")"
   ]
  },
  {
   "cell_type": "code",
   "execution_count": 18,
   "id": "52011038",
   "metadata": {},
   "outputs": [
    {
     "name": "stdout",
     "output_type": "stream",
     "text": [
      "[1, 2, 3, 4, 5]\n"
     ]
    }
   ],
   "source": [
    "#插入元素保持有序：\n",
    "a = [1, 2, 4, 5]\n",
    "x = 3\n",
    "bisect.insort_left(a, x)\n",
    "print(a)  # 输出：[1, 2, 3, 4, 5]"
   ]
  },
  {
   "cell_type": "code",
   "execution_count": 19,
   "id": "11a618d3",
   "metadata": {},
   "outputs": [
    {
     "name": "stdout",
     "output_type": "stream",
     "text": [
      "Number of elements <= 4: 4\n"
     ]
    }
   ],
   "source": [
    "a = [1, 2, 4, 4, 5]\n",
    "x = 4\n",
    "count = bisect.bisect_right(a, x)\n",
    "print(f\"Number of elements <= {x}: {count}\")  # 输出：4\n",
    "\n"
   ]
  }
 ],
 "metadata": {
  "kernelspec": {
   "display_name": "li2",
   "language": "python",
   "name": "python3"
  },
  "language_info": {
   "codemirror_mode": {
    "name": "ipython",
    "version": 3
   },
   "file_extension": ".py",
   "mimetype": "text/x-python",
   "name": "python",
   "nbconvert_exporter": "python",
   "pygments_lexer": "ipython3",
   "version": "3.9.23"
  }
 },
 "nbformat": 4,
 "nbformat_minor": 5
}
