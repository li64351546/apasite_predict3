{
 "cells": [
  {
   "cell_type": "code",
   "execution_count": null,
   "id": "7b4ed714",
   "metadata": {},
   "outputs": [],
   "source": [
    "import matplotlib.pyplot as plt\n",
    "import matplotlib\n",
    "import matplotlib_inline\n",
    "matplotlib_inline.backend_inline.set_matplotlib_formats('png', 'svg')\n",
    "import matplotlib.pyplot as plt\n",
    "import zhplot\n",
    "\n",
    "\n",
    "\n",
    "# 创建时间序列图\n",
    "plt.figure(figsize=(12, 6))\n",
    "plt.plot(signal, lw=2, label='时间序列数据')\n",
    "plt.legend()\n",
    "\n",
    "#保存\n",
    "plt.savefig('ts-data.png', dpi=200)\n",
    "\n",
    "# 显示\n",
    "plt.show()"
   ]
  }
 ],
 "metadata": {
  "language_info": {
   "name": "python"
  }
 },
 "nbformat": 4,
 "nbformat_minor": 5
}
