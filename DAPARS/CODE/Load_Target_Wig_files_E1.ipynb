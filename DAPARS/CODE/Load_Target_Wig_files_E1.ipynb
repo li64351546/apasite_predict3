{
 "cells": [
  {
   "cell_type": "code",
   "execution_count": 1,
   "id": "0e320222",
   "metadata": {},
   "outputs": [],
   "source": [
    "import numpy as np\n",
    "import os\n",
    "import sys\n",
    "import datetime\n",
    "\n",
    "import scipy as sp\n",
    "import scipy.stats\n",
    "\n",
    "from bisect import bisect\n",
    "from statsmodels.stats.multitest import multipletests\n",
    "\n",
    "import math"
   ]
  },
  {
   "cell_type": "code",
   "execution_count": 2,
   "id": "a66826b2",
   "metadata": {},
   "outputs": [],
   "source": [
    "def parse_cfgfile(cfg_file):\n",
    "    '''Parse configure file\n",
    "    '''\n",
    "    Group1_Tophat_aligned_file=''\n",
    "    Group2_Tophat_aligned_file=''\n",
    "    output_directory=''\n",
    "    Annotated_3UTR_file=''\n",
    "    Output_result_file=''\n",
    "    Num_least_in_group1_local=''\n",
    "    Num_least_in_group2_local=''\n",
    "    Coverage_cutoff_local = ''\n",
    "    FDR_cutoff_local = ''\n",
    "    Fold_change_cutoff_local = ''\n",
    "    PDUI_cutoff_local = ''\n",
    "    \n",
    "    for line in open(cfg_file,'r'):\n",
    "        if line[0] == '\\n' or line[0] == '#':\n",
    "            comments = line;\n",
    "        else:\n",
    "            line = line.rstrip();\n",
    "            command = line.split('=');\n",
    "            if command[0] == 'Group1_Tophat_aligned_Wig':\n",
    "                Group1_Tophat_aligned_file = command[1].split(',');\n",
    "            if command[0] == 'Group2_Tophat_aligned_Wig':\n",
    "                Group2_Tophat_aligned_file = command[1].split(',');\n",
    "            if command[0] == 'Output_directory':\n",
    "                output_directory = command[1]\n",
    "                if output_directory[-1] != '/':\n",
    "                    output_directory += '/'\n",
    "            if command[0] == 'Annotated_3UTR':\n",
    "                Annotated_3UTR_file = command[1]\n",
    "            if command[0] == 'Output_result_file':\n",
    "                Output_result_file = command[1]\n",
    "            \n",
    "            ##Parameters\n",
    "            if command[0] == 'Num_least_in_group1':\n",
    "                Num_least_in_group1_local = command[1]\n",
    "            if command[0] == 'Num_least_in_group2':\n",
    "                Num_least_in_group2_local = command[1]\n",
    "            if command[0] == 'Coverage_cutoff':\n",
    "                Coverage_cutoff_local = command[1]\n",
    "            if command[0] == 'FDR_cutoff':\n",
    "                FDR_cutoff_local = command[1]\n",
    "            if command[0] == 'Fold_change_cutoff':\n",
    "                Fold_change_cutoff_local = command[1]\n",
    "            if command[0] == 'PDUI_cutoff':\n",
    "                PDUI_cutoff_local = command[1]\n",
    "            \n",
    "    \n",
    "    if Group1_Tophat_aligned_file=='':\n",
    "        print(\"No Tophat aligned BAM file for group 1!\", file=sys.stderr)\n",
    "        exit(1)\n",
    "    if Group2_Tophat_aligned_file=='':\n",
    "        print(\"No Tophat aligned BAM file for group 2!\", file=sys.stderr)\n",
    "        exit(1)\n",
    "    if output_directory=='':\n",
    "        print(\"No output directory!\", file=sys.stderr)\n",
    "        exit(1)\n",
    "    if Annotated_3UTR_file=='':\n",
    "        print(\"No annotated 3' UTR file!\", file=sys.stderr)\n",
    "        exit(1)\n",
    "    if Output_result_file=='':\n",
    "        print(\"No result file name!\", file=sys.stderr)\n",
    "        exit(1)\n",
    "    return Group1_Tophat_aligned_file,Group2_Tophat_aligned_file,output_directory,Annotated_3UTR_file,Output_result_file,Num_least_in_group1_local,Num_least_in_group2_local,Coverage_cutoff_local,FDR_cutoff_local,Fold_change_cutoff_local,PDUI_cutoff_local\n"
   ]
  },
  {
   "cell_type": "code",
   "execution_count": 12,
   "id": "0f6b4c8c",
   "metadata": {},
   "outputs": [],
   "source": [
    "Group1_Tophat_aligned_file,Group2_Tophat_aligned_file,output_directory,Annotated_3UTR_file,Output_result_file,Num_least_in_group1_local,Num_least_in_group2_local,Coverage_cutoff_local,FDR_cutoff_local,Fold_change_cutoff_local,PDUI_cutoff_local = parse_cfgfile('/home/li/桌面/PROJECT6/apasite_predict2/DAPARS/DATA/DaPars_test_data_configure.txt')"
   ]
  },
  {
   "cell_type": "code",
   "execution_count": 17,
   "id": "b8150221",
   "metadata": {},
   "outputs": [],
   "source": [
    "num_group_1 = len(Group1_Tophat_aligned_file)\n",
    "All_Sample_files = Group1_Tophat_aligned_file[:]\n",
    "All_Sample_files.extend(Group2_Tophat_aligned_file)"
   ]
  },
  {
   "cell_type": "code",
   "execution_count": null,
   "id": "a69b4f23",
   "metadata": {},
   "outputs": [],
   "source": [
    "def Load_Target_Wig_files(All_Wig_files, UTR_Annotation_file):\n",
    "    UTR_events_dict = {}\n",
    "    All_Samples_Total_depth = []\n",
    "    for line in open(UTR_Annotation_file,'r'):\n",
    "        fields = line.strip('\\n').split('\\t')\n",
    "        curr_chr = fields[0]\n",
    "        region_start = int(float(fields[1]))\n",
    "        region_end   = int(float(fields[2]))\n",
    "        curr_strand  = fields[-1]\n",
    "        UTR_pos = \"%s:%s-%s\" % (curr_chr, region_start, region_end)\n",
    "        end_shift = int(round(abs(int(region_start) - int(region_end)) * 0.2))\n",
    "        if curr_strand == '+':\n",
    "            region_end = str(int(region_end) - end_shift)\n",
    "        else:\n",
    "            region_start = str(int(region_start) + end_shift)\n",
    "        region_start = int(region_start) + 1\n",
    "        region_end   = int(region_end) - 1\n",
    "        if region_start + 50 < region_end:\n",
    "            UTR_events_dict[fields[3]] = [fields[0],region_start,region_end,fields[-1],UTR_pos]\n",
    "\n",
    "    ##Load coverage for all samples\n",
    "    All_samples_extracted_3UTR_coverage_dict = {}\n",
    "    for curr_wig_file in All_Wig_files:\n",
    "        curr_sample_All_chroms_coverage_dict = {}\n",
    "        num_line = 0\n",
    "        cur_sample_total_depth = 0\n",
    "        for line in open(curr_wig_file,'r'):\n",
    "            if '#' not in line and line[0:3] == 'chr':\n",
    "                fields = line.strip('\\n').split('\\t')\n",
    "                chrom_name = fields[0]\n",
    "                region_start = int(float(fields[1]))\n",
    "                region_end = int(float(fields[2]))\n",
    "                cur_sample_total_depth += int(float(fields[-1])) * (region_end - region_start)\n",
    "                if chrom_name not in curr_sample_All_chroms_coverage_dict:\n",
    "                    curr_sample_All_chroms_coverage_dict[chrom_name] = [[0],[0]]\n",
    "                if region_start > curr_sample_All_chroms_coverage_dict[chrom_name][0][-1]:\n",
    "                    curr_sample_All_chroms_coverage_dict[chrom_name][0].append(region_start)\n",
    "                    curr_sample_All_chroms_coverage_dict[chrom_name][1].append(0)\n",
    "                curr_sample_All_chroms_coverage_dict[chrom_name][0].append(region_end)\n",
    "                curr_sample_All_chroms_coverage_dict[chrom_name][1].append(int(float(fields[-1])))\n",
    "            num_line += 1 \n",
    "        \n",
    "        curr_sample_All_chroms_coverage_dict[chrom_name][1].append(0)\n",
    "        All_Samples_Total_depth.append(cur_sample_total_depth)\n",
    "\n",
    "\n",
    "        for curr_3UTR_event_id in UTR_events_dict:\n",
    "            curr_3UTR_structure = UTR_events_dict[curr_3UTR_event_id]\n",
    "            curr_chr = curr_3UTR_structure[0]\n",
    "            if curr_chr in curr_sample_All_chroms_coverage_dict:\n",
    "                curr_chr_coverage = curr_sample_All_chroms_coverage_dict[curr_chr]\n",
    "                region_start = curr_3UTR_structure[1]\n",
    "                region_end = curr_3UTR_structure[2]\n",
    "                left_region_index = bisect(curr_chr_coverage[0],region_start)\n",
    "                right_region_index = bisect(curr_chr_coverage[0],region_end)\n",
    "\n",
    "                extracted_coverage = curr_chr_coverage[1][left_region_index:right_region_index+1]\n",
    "                extracted_3UTR_region = curr_chr_coverage[0][left_region_index:right_region_index]\n",
    "                extracted_3UTR_region.insert(0,region_start)\n",
    "                extracted_3UTR_region.append(region_end)\n",
    "                if curr_3UTR_event_id not in All_samples_extracted_3UTR_coverage_dict:\n",
    "                    All_samples_extracted_3UTR_coverage_dict[curr_3UTR_event_id] = []\n",
    "                All_samples_extracted_3UTR_coverage_dict[curr_3UTR_event_id].append([extracted_coverage,extracted_3UTR_region])\n",
    "\n",
    "                \n",
    "    return All_samples_extracted_3UTR_coverage_dict,np.array(All_Samples_Total_depth),UTR_events_dict\n"
   ]
  },
  {
   "cell_type": "code",
   "execution_count": 19,
   "id": "85e33cff",
   "metadata": {},
   "outputs": [
    {
     "ename": "KeyboardInterrupt",
     "evalue": "",
     "output_type": "error",
     "traceback": [
      "\u001b[0;31m---------------------------------------------------------------------------\u001b[0m",
      "\u001b[0;31mKeyboardInterrupt\u001b[0m                         Traceback (most recent call last)",
      "Cell \u001b[0;32mIn[19], line 1\u001b[0m\n\u001b[0;32m----> 1\u001b[0m \u001b[43mLoad_Target_Wig_files\u001b[49m\u001b[43m(\u001b[49m\u001b[43mAll_Sample_files\u001b[49m\u001b[43m,\u001b[49m\u001b[43m \u001b[49m\u001b[43mAnnotated_3UTR_file\u001b[49m\u001b[43m)\u001b[49m\n",
      "Cell \u001b[0;32mIn[13], line 39\u001b[0m, in \u001b[0;36mLoad_Target_Wig_files\u001b[0;34m(All_Wig_files, UTR_Annotation_file)\u001b[0m\n\u001b[1;32m     37\u001b[0m         curr_sample_All_chroms_coverage_dict[chrom_name][\u001b[38;5;241m0\u001b[39m]\u001b[38;5;241m.\u001b[39mappend(region_start)\n\u001b[1;32m     38\u001b[0m         curr_sample_All_chroms_coverage_dict[chrom_name][\u001b[38;5;241m1\u001b[39m]\u001b[38;5;241m.\u001b[39mappend(\u001b[38;5;241m0\u001b[39m)\n\u001b[0;32m---> 39\u001b[0m     \u001b[43mcurr_sample_All_chroms_coverage_dict\u001b[49m\u001b[43m[\u001b[49m\u001b[43mchrom_name\u001b[49m\u001b[43m]\u001b[49m\u001b[43m[\u001b[49m\u001b[38;5;241;43m0\u001b[39;49m\u001b[43m]\u001b[49m\u001b[38;5;241;43m.\u001b[39;49m\u001b[43mappend\u001b[49m(region_end)\n\u001b[1;32m     40\u001b[0m     curr_sample_All_chroms_coverage_dict[chrom_name][\u001b[38;5;241m1\u001b[39m]\u001b[38;5;241m.\u001b[39mappend(\u001b[38;5;28mint\u001b[39m(\u001b[38;5;28mfloat\u001b[39m(fields[\u001b[38;5;241m-\u001b[39m\u001b[38;5;241m1\u001b[39m])))\n\u001b[1;32m     41\u001b[0m num_line \u001b[38;5;241m+\u001b[39m\u001b[38;5;241m=\u001b[39m \u001b[38;5;241m1\u001b[39m\n",
      "\u001b[0;31mKeyboardInterrupt\u001b[0m: "
     ]
    }
   ],
   "source": [
    "Load_Target_Wig_files(All_Sample_files, Annotated_3UTR_file)"
   ]
  },
  {
   "cell_type": "code",
   "execution_count": 18,
   "id": "4d825043",
   "metadata": {},
   "outputs": [
    {
     "data": {
      "text/plain": [
       "['../DATA/Condition_A_chrX.wig', '../DATA/Condition_B_chrX.wig']"
      ]
     },
     "execution_count": 18,
     "metadata": {},
     "output_type": "execute_result"
    }
   ],
   "source": [
    "All_Sample_files"
   ]
  },
  {
   "cell_type": "code",
   "execution_count": 29,
   "id": "82e0e37f",
   "metadata": {},
   "outputs": [
    {
     "name": "stdout",
     "output_type": "stream",
     "text": [
      "['chr14', '50792327', '50792946', 'NM_001003805|ATP5S|chr14|+', '0', '+']\n"
     ]
    }
   ],
   "source": [
    "for line in open(Annotated_3UTR_file,'r'):\n",
    "    # print(line)\n",
    "    #strip() 方法用于移除字符串头尾指定的字符\n",
    "    fields = line.strip('\\n').split('\\t')\n",
    "    print(fields)\n",
    "    break"
   ]
  },
  {
   "cell_type": "code",
   "execution_count": null,
   "id": "be83379a",
   "metadata": {},
   "outputs": [
    {
     "data": {
      "text/plain": [
       "'chr14:50792327-50792946'"
      ]
     },
     "execution_count": 31,
     "metadata": {},
     "output_type": "execute_result"
    }
   ],
   "source": [
    "curr_chr = fields[0]\n",
    "region_start = int(float(fields[1]))\n",
    "region_end   = int(float(fields[2]))\n",
    "UTR_pos = \"%s:%s-%s\" % (curr_chr, region_start, region_end)\n",
    "UTR_pos"
   ]
  },
  {
   "cell_type": "code",
   "execution_count": 33,
   "id": "cd3afc73",
   "metadata": {},
   "outputs": [
    {
     "data": {
      "text/plain": [
       "124"
      ]
     },
     "execution_count": 33,
     "metadata": {},
     "output_type": "execute_result"
    }
   ],
   "source": [
    "end_shift = int(round(abs(int(region_start) - int(region_end)) * 0.2))\n",
    "end_shift"
   ]
  }
 ],
 "metadata": {
  "kernelspec": {
   "display_name": "li2",
   "language": "python",
   "name": "python3"
  },
  "language_info": {
   "codemirror_mode": {
    "name": "ipython",
    "version": 3
   },
   "file_extension": ".py",
   "mimetype": "text/x-python",
   "name": "python",
   "nbconvert_exporter": "python",
   "pygments_lexer": "ipython3",
   "version": "3.9.23"
  }
 },
 "nbformat": 4,
 "nbformat_minor": 5
}
